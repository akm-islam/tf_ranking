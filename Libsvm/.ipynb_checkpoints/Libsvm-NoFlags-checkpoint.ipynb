{
 "cells": [
  {
   "cell_type": "code",
   "execution_count": 33,
   "metadata": {},
   "outputs": [],
   "source": [
    "import numpy as np\n",
    "import six\n",
    "import tensorflow as tf\n",
    "import tensorflow_ranking as tfr"
   ]
  },
  {
   "cell_type": "code",
   "execution_count": 34,
   "metadata": {},
   "outputs": [],
   "source": [
    "train_path=\"./data/train.txt\"\n",
    "vali_path=\"./data/vali.txt\"\n",
    "test_path=\"./data/test.txt\"\n",
    "output_dir=\"./output\"\n",
    "train_batch_size= 32\n",
    "num_train_steps= 100\n",
    "learning_rate= 0.01\n",
    "dropout_rate= 0.5\n",
    "hidden_layer_dims=[\"16\", \"8\", \"4\"]\n",
    "num_features=136\n",
    "list_size= 100\n",
    "group_size= 1\n",
    "loss=\"pairwise_logistic_loss\"\n",
    "secondary_loss= None\n",
    "secondary_loss_weight= 0.5\n",
    "_PRIMARY_HEAD = \"primary_head\"\n",
    "_SECONDARY_HEAD = \"secondary_head\""
   ]
  },
  {
   "cell_type": "code",
   "execution_count": 35,
   "metadata": {},
   "outputs": [],
   "source": [
    "def _use_multi_head():\n",
    "  \"\"\"Returns True if using multi-head.\"\"\"\n",
    "  return secondary_loss is not None\n",
    "\n",
    "class IteratorInitializerHook(tf.estimator.SessionRunHook):\n",
    "  \"\"\"Hook to initialize data iterator after session is created.\"\"\"\n",
    "  def __init__(self):\n",
    "    super(IteratorInitializerHook, self).__init__()\n",
    "    self.iterator_initializer_fn = None\n",
    "\n",
    "  def after_create_session(self, session, coord):\n",
    "    \"\"\"Initialize the iterator after the session has been created.\"\"\"\n",
    "    del coord\n",
    "    self.iterator_initializer_fn(session)\n",
    "    \n",
    "def example_feature_columns():\n",
    "  \"\"\"Returns the example feature columns.\"\"\"\n",
    "  feature_names = [\"{}\".format(i + 1) for i in range(num_features)]\n",
    "  return {\n",
    "      name:\n",
    "      tf.feature_column.numeric_column(name, shape=(1,), default_value=0.0)\n",
    "      for name in feature_names\n",
    "  }"
   ]
  },
  {
   "cell_type": "markdown",
   "metadata": {},
   "source": [
    "# Load_libsvm_data"
   ]
  },
  {
   "cell_type": "code",
   "execution_count": 36,
   "metadata": {},
   "outputs": [],
   "source": [
    "def load_libsvm_data(path, list_size):\n",
    "  \"\"\"Returns features and labels in numpy.array.\"\"\"\n",
    "  def _parse_line(line):\n",
    "    \"\"\"Parses a single line in LibSVM format.\"\"\"\n",
    "    tokens = line.split(\"#\")[0].split()\n",
    "    assert len(tokens) >= 2, \"Ill-formatted line: {}\".format(line)\n",
    "    label = float(tokens[0])\n",
    "    qid = tokens[1]\n",
    "    kv_pairs = [kv.split(\":\") for kv in tokens[2:]]\n",
    "    features = {k: float(v) for (k, v) in kv_pairs}\n",
    "    return qid, features, label\n",
    "\n",
    "  # The 0-based index assigned to a query.\n",
    "  qid_to_index = {}\n",
    "  # The number of docs seen so far for a query.\n",
    "  qid_to_ndoc = {}\n",
    "  # Each feature is mapped an array with [num_queries, list_size, 1]. Label has\n",
    "  # a shape of [num_queries, list_size]. We use list for each of them due to the\n",
    "  # unknown number of queries.\n",
    "  feature_map = {k: [] for k in example_feature_columns()}\n",
    "  label_list = []\n",
    "  total_docs = 0\n",
    "  discarded_docs = 0\n",
    "  with open(path, \"rt\") as f:\n",
    "    for line in f:\n",
    "      qid, features, label = _parse_line(line)\n",
    "      if qid not in qid_to_index:\n",
    "        # Create index and allocate space for a new query.\n",
    "        qid_to_index[qid] = len(qid_to_index)\n",
    "        qid_to_ndoc[qid] = 0\n",
    "        for k in feature_map:\n",
    "          feature_map[k].append(np.zeros([list_size, 1], dtype=np.float32))\n",
    "        label_list.append(np.ones([list_size], dtype=np.float32) * -1.)\n",
    "      total_docs += 1\n",
    "      batch_idx = qid_to_index[qid]\n",
    "      doc_idx = qid_to_ndoc[qid]\n",
    "      qid_to_ndoc[qid] += 1\n",
    "      # Keep the first 'list_size' docs only.\n",
    "      if doc_idx >= list_size:\n",
    "        discarded_docs += 1\n",
    "        continue\n",
    "      for k, v in six.iteritems(features):\n",
    "        assert k in feature_map, \"Key {} not found in features.\".format(k)\n",
    "        feature_map[k][batch_idx][doc_idx, 0] = v\n",
    "      label_list[batch_idx][doc_idx] = label\n",
    "\n",
    "  # Convert everything to np.array.\n",
    "  for k in feature_map:\n",
    "    feature_map[k] = np.array(feature_map[k])\n",
    "    \n",
    "  return feature_map, np.array(label_list)"
   ]
  },
  {
   "cell_type": "code",
   "execution_count": 37,
   "metadata": {},
   "outputs": [
    {
     "name": "stdout",
     "output_type": "stream",
     "text": [
      "len(loaded_data) 2\n",
      "len(loaded_data[0]) : 136\n",
      "len(loaded_data[1]) : 27\n",
      "len(loaded_data[0]['1']) : 27\n",
      "len(loaded_data[0]['1'][0]) : 100\n"
     ]
    }
   ],
   "source": [
    "train_path=\"./data/train.txt\"\n",
    "list_size=100\n",
    "loaded_data=load_libsvm_data(train_path, list_size) # loaded_data is a tuple\n",
    "print(\"len(loaded_data)\",len(loaded_data))\n",
    "print(\"len(loaded_data[0]) :\",len(loaded_data[0]))\n",
    "print(\"len(loaded_data[1]) :\",len(loaded_data[1]))\n",
    "print(\"len(loaded_data[0]['1']) :\",len(loaded_data[0]['1']))\n",
    "print(\"len(loaded_data[0]['1'][0]) :\",len(loaded_data[0]['1'][0]))"
   ]
  },
  {
   "cell_type": "code",
   "execution_count": 38,
   "metadata": {},
   "outputs": [
    {
     "data": {
      "text/plain": [
       "array([[ 0.,  2.,  2., ..., -1., -1., -1.],\n",
       "       [ 2.,  1.,  1., ..., -1., -1., -1.],\n",
       "       [ 0.,  2.,  0., ..., -1., -1., -1.],\n",
       "       ...,\n",
       "       [ 1.,  1.,  0., ..., -1., -1., -1.],\n",
       "       [ 2.,  1.,  0., ..., -1., -1., -1.],\n",
       "       [ 1.,  1.,  0., ..., -1., -1., -1.]], dtype=float32)"
      ]
     },
     "execution_count": 38,
     "metadata": {},
     "output_type": "execute_result"
    }
   ],
   "source": [
    "loaded_data[1]"
   ]
  },
  {
   "cell_type": "markdown",
   "metadata": {},
   "source": [
    "\n",
    "\n",
    "# Get_train_inputs\n",
    "\n"
   ]
  },
  {
   "cell_type": "code",
   "execution_count": 39,
   "metadata": {},
   "outputs": [],
   "source": [
    "def get_train_inputs(features, labels, batch_size):\n",
    "  \"\"\"Set up training input in batches.\"\"\"\n",
    "  iterator_initializer_hook = IteratorInitializerHook()\n",
    "    \n",
    "  def _train_input_fn():\n",
    "    \"\"\"Defines training input fn.\"\"\"\n",
    "    features_placeholder = {\n",
    "        k: tf.compat.v1.placeholder(v.dtype, v.shape)\n",
    "        for k, v in six.iteritems(features)\n",
    "    }\n",
    "    if _use_multi_head():\n",
    "      placeholder = tf.compat.v1.placeholder(labels.dtype, labels.shape)\n",
    "      labels_placeholder = {\n",
    "          _PRIMARY_HEAD: placeholder,\n",
    "          _SECONDARY_HEAD: placeholder,\n",
    "      }\n",
    "    else:\n",
    "      labels_placeholder = tf.compat.v1.placeholder(labels.dtype, labels.shape)\n",
    "    dataset = tf.data.Dataset.from_tensor_slices(\n",
    "        (features_placeholder, labels_placeholder))\n",
    "    dataset = dataset.shuffle(1000).repeat().batch(batch_size)\n",
    "    iterator = tf.compat.v1.data.make_initializable_iterator(dataset)\n",
    "    if _use_multi_head():\n",
    "      feed_dict = {\n",
    "          labels_placeholder[head_name]: labels\n",
    "          for head_name in labels_placeholder\n",
    "      }\n",
    "    else:\n",
    "      feed_dict = {labels_placeholder: labels}\n",
    "    feed_dict.update(\n",
    "        {features_placeholder[k]: features[k] for k in features_placeholder})\n",
    "    iterator_initializer_hook.iterator_initializer_fn = (\n",
    "        lambda sess: sess.run(iterator.initializer, feed_dict=feed_dict))\n",
    "    return iterator.get_next()\n",
    "\n",
    "  return _train_input_fn, iterator_initializer_hook"
   ]
  },
  {
   "cell_type": "markdown",
   "metadata": {
    "scrolled": true
   },
   "source": [
    "# Get_eval_inputs"
   ]
  },
  {
   "cell_type": "code",
   "execution_count": 40,
   "metadata": {},
   "outputs": [],
   "source": [
    "def get_eval_inputs(features, labels):\n",
    "  \"\"\"Set up eval inputs in a single batch.\"\"\"\n",
    "  iterator_initializer_hook = IteratorInitializerHook()\n",
    "\n",
    "  def _eval_input_fn():\n",
    "    \"\"\"Defines eval input fn.\"\"\"\n",
    "    features_placeholder = {\n",
    "        k: tf.compat.v1.placeholder(v.dtype, v.shape)\n",
    "        for k, v in six.iteritems(features)\n",
    "    }\n",
    "    if _use_multi_head():\n",
    "      placeholder = tf.compat.v1.placeholder(labels.dtype, labels.shape)\n",
    "      labels_placeholder = {\n",
    "          _PRIMARY_HEAD: placeholder,\n",
    "          _SECONDARY_HEAD: placeholder,\n",
    "      }\n",
    "    else:\n",
    "      labels_placeholder = tf.compat.v1.placeholder(labels.dtype, labels.shape)\n",
    "    dataset = tf.data.Dataset.from_tensors(\n",
    "        (features_placeholder, labels_placeholder))\n",
    "    iterator = tf.compat.v1.data.make_initializable_iterator(dataset)\n",
    "    if _use_multi_head():\n",
    "      feed_dict = {\n",
    "          labels_placeholder[head_name]: labels\n",
    "          for head_name in labels_placeholder\n",
    "      }\n",
    "    else:\n",
    "      feed_dict = {labels_placeholder: labels}\n",
    "    feed_dict.update(\n",
    "        {features_placeholder[k]: features[k] for k in features_placeholder})\n",
    "    iterator_initializer_hook.iterator_initializer_fn = (\n",
    "        lambda sess: sess.run(iterator.initializer, feed_dict=feed_dict))\n",
    "    return iterator.get_next()\n",
    "\n",
    "  return _eval_input_fn, iterator_initializer_hook"
   ]
  },
  {
   "cell_type": "code",
   "execution_count": 41,
   "metadata": {},
   "outputs": [],
   "source": [
    "def make_serving_input_fn():\n",
    "  \"\"\"Returns serving input fn to receive tf.Example.\"\"\"\n",
    "  feature_spec = tf.feature_column.make_parse_example_spec(\n",
    "      example_feature_columns().values())\n",
    "  return tf.estimator.export.build_parsing_serving_input_receiver_fn(\n",
    "      feature_spec)"
   ]
  },
  {
   "cell_type": "code",
   "execution_count": 42,
   "metadata": {},
   "outputs": [],
   "source": [
    "def make_transform_fn():\n",
    "  \"\"\"Returns a transform_fn that converts features to dense Tensors.\"\"\"\n",
    "  def _transform_fn(features, mode):\n",
    "    \"\"\"Defines transform_fn.\"\"\"\n",
    "    if mode == tf.estimator.ModeKeys.PREDICT:\n",
    "      # We expect tf.Example as input during serving. In this case, group_size\n",
    "      # must be set to 1.\n",
    "      if group_size != 1:\n",
    "        raise ValueError(\n",
    "            \"group_size should be 1 to be able to export model, but get %s\" %\n",
    "            group_size)\n",
    "      context_features, example_features = (\n",
    "          tfr.feature.encode_pointwise_features(\n",
    "              features=features,\n",
    "              context_feature_columns=None,\n",
    "              example_feature_columns=example_feature_columns(),\n",
    "              mode=mode,\n",
    "              scope=\"transform_layer\"))\n",
    "    else:\n",
    "      context_features, example_features = tfr.feature.encode_listwise_features(\n",
    "          features=features,\n",
    "          context_feature_columns=None,\n",
    "          example_feature_columns=example_feature_columns(),\n",
    "          mode=mode,\n",
    "          scope=\"transform_layer\")\n",
    "\n",
    "    return context_features, example_features\n",
    "\n",
    "  return _transform_fn"
   ]
  },
  {
   "cell_type": "markdown",
   "metadata": {},
   "source": [
    "# Make_score_fn"
   ]
  },
  {
   "cell_type": "code",
   "execution_count": 43,
   "metadata": {},
   "outputs": [],
   "source": [
    "def make_score_fn():\n",
    "  \"\"\"Returns a groupwise score fn to build `EstimatorSpec`.\"\"\"\n",
    "\n",
    "  def _score_fn(unused_context_features, group_features, mode, unused_params,\n",
    "                unused_config):\n",
    "    \"\"\"Defines the network to score a group of documents.\"\"\"\n",
    "    with tf.compat.v1.name_scope(\"input_layer\"):\n",
    "      group_input = [\n",
    "          tf.compat.v1.layers.flatten(group_features[name])\n",
    "          for name in sorted(example_feature_columns())\n",
    "      ]\n",
    "      input_layer = tf.concat(group_input, 1)\n",
    "      tf.compat.v1.summary.scalar(\"input_sparsity\",\n",
    "                                  tf.nn.zero_fraction(input_layer))\n",
    "      tf.compat.v1.summary.scalar(\"input_max\",\n",
    "                                  tf.reduce_max(input_tensor=input_layer))\n",
    "      tf.compat.v1.summary.scalar(\"input_min\",\n",
    "                                  tf.reduce_min(input_tensor=input_layer))\n",
    "\n",
    "    is_training = (mode == tf.estimator.ModeKeys.TRAIN)\n",
    "    cur_layer = tf.compat.v1.layers.batch_normalization(\n",
    "        input_layer, training=is_training)\n",
    "    for i, layer_width in enumerate(int(d) for d in hidden_layer_dims):\n",
    "      cur_layer = tf.compat.v1.layers.dense(cur_layer, units=layer_width)\n",
    "      cur_layer = tf.compat.v1.layers.batch_normalization(\n",
    "          cur_layer, training=is_training)\n",
    "      cur_layer = tf.nn.relu(cur_layer)\n",
    "      tf.compat.v1.summary.scalar(\"fully_connected_{}_sparsity\".format(i),\n",
    "                                  tf.nn.zero_fraction(cur_layer))\n",
    "    cur_layer = tf.compat.v1.layers.dropout(\n",
    "        cur_layer, rate=dropout_rate, training=is_training)\n",
    "    logits = tf.compat.v1.layers.dense(cur_layer, units=group_size)\n",
    "    if _use_multi_head():\n",
    "      # Duplicate the logits for both heads.\n",
    "      return {_PRIMARY_HEAD: logits, _SECONDARY_HEAD: logits}\n",
    "    else:\n",
    "      return logits\n",
    "\n",
    "  return _score_fn"
   ]
  },
  {
   "cell_type": "code",
   "execution_count": 44,
   "metadata": {},
   "outputs": [],
   "source": [
    "def get_eval_metric_fns():\n",
    "  \"\"\"Returns a dict from name to metric functions.\"\"\"\n",
    "  metric_fns = {}\n",
    "  metric_fns.update({\n",
    "      \"metric/%s\" % name: tfr.metrics.make_ranking_metric_fn(name) for name in [\n",
    "          tfr.metrics.RankingMetricKey.ARP,\n",
    "          tfr.metrics.RankingMetricKey.ORDERED_PAIR_ACCURACY,\n",
    "      ]\n",
    "  })\n",
    "  metric_fns.update({\n",
    "      \"metric/ndcg@%d\" % topn: tfr.metrics.make_ranking_metric_fn(\n",
    "          tfr.metrics.RankingMetricKey.NDCG, topn=topn)\n",
    "      for topn in [1, 3, 5, 10]\n",
    "  })\n",
    "  return metric_fns"
   ]
  },
  {
   "cell_type": "markdown",
   "metadata": {},
   "source": [
    "# Train_and_eval"
   ]
  },
  {
   "cell_type": "code",
   "execution_count": 45,
   "metadata": {},
   "outputs": [],
   "source": [
    "def train_and_eval():\n",
    "  \"\"\"Train and Evaluate.\"\"\"\n",
    "\n",
    "  features, labels = load_libsvm_data(train_path, list_size)\n",
    "  train_input_fn, train_hook = get_train_inputs(features, labels,\n",
    "                                                train_batch_size)\n",
    "\n",
    "  features_vali, labels_vali = load_libsvm_data(vali_path,\n",
    "                                                list_size)\n",
    "  vali_input_fn, vali_hook = get_eval_inputs(features_vali, labels_vali)\n",
    "\n",
    "  features_test, labels_test = load_libsvm_data(test_path,\n",
    "                                                list_size)\n",
    "  test_input_fn, test_hook = get_eval_inputs(features_test, labels_test)\n",
    "\n",
    "  optimizer = tf.compat.v1.train.AdagradOptimizer(\n",
    "      learning_rate=learning_rate)\n",
    "\n",
    "  def _train_op_fn(loss):\n",
    "    \"\"\"Defines train op used in ranking head.\"\"\"\n",
    "    update_ops = tf.compat.v1.get_collection(tf.compat.v1.GraphKeys.UPDATE_OPS)\n",
    "    minimize_op = optimizer.minimize(\n",
    "        loss=loss, global_step=tf.compat.v1.train.get_global_step())\n",
    "    train_op = tf.group([minimize_op, update_ops])\n",
    "    return train_op\n",
    "\n",
    "  if _use_multi_head():\n",
    "    primary_head = tfr.head.create_ranking_head(\n",
    "        loss_fn=tfr.losses.make_loss_fn(loss),\n",
    "        eval_metric_fns=get_eval_metric_fns(),\n",
    "        train_op_fn=_train_op_fn,\n",
    "        name=_PRIMARY_HEAD)\n",
    "    secondary_head = tfr.head.create_ranking_head(\n",
    "        loss_fn=tfr.losses.make_loss_fn(secondary_loss),\n",
    "        eval_metric_fns=get_eval_metric_fns(),\n",
    "        train_op_fn=_train_op_fn,\n",
    "        name=_SECONDARY_HEAD)\n",
    "    ranking_head = tfr.head.create_multi_ranking_head(\n",
    "        [primary_head, secondary_head], [1.0, secondary_loss_weight])\n",
    "  else:\n",
    "    ranking_head = tfr.head.create_ranking_head(\n",
    "        loss_fn=tfr.losses.make_loss_fn(loss),\n",
    "        eval_metric_fns=get_eval_metric_fns(),\n",
    "        train_op_fn=_train_op_fn)\n",
    "\n",
    "  estimator = tf.estimator.Estimator(\n",
    "      model_fn=tfr.model.make_groupwise_ranking_fn(group_score_fn=make_score_fn(),group_size=group_size,transform_fn=make_transform_fn(),ranking_head=ranking_head),\n",
    "      config=tf.estimator.RunConfig(output_dir, save_checkpoints_steps=1000))\n",
    "\n",
    "  train_spec = tf.estimator.TrainSpec(\n",
    "      input_fn=train_input_fn,\n",
    "      hooks=[train_hook],\n",
    "      max_steps=num_train_steps)\n",
    "    \n",
    "  # Export model to accept tf.Example when group_size = 1.\n",
    "  if group_size == 1:\n",
    "    vali_spec = tf.estimator.EvalSpec(input_fn=vali_input_fn,hooks=[vali_hook],steps=1,\n",
    "                                        exporters=tf.estimator.LatestExporter(\"latest_exporter\",\n",
    "                                        serving_input_receiver_fn=make_serving_input_fn()),\n",
    "                                        start_delay_secs=0,\n",
    "                                        throttle_secs=30)\n",
    "  else:\n",
    "    vali_spec = tf.estimator.EvalSpec(input_fn=vali_input_fn,hooks=[vali_hook],steps=1,start_delay_secs=0,throttle_secs=30)\n",
    "\n",
    "  # Train and validate\n",
    "  tf.estimator.train_and_evaluate(estimator, train_spec, vali_spec)\n",
    "  # Evaluate on the test data.\n",
    "  estimator.evaluate(input_fn=test_input_fn, hooks=[test_hook])"
   ]
  },
  {
   "cell_type": "code",
   "execution_count": 46,
   "metadata": {},
   "outputs": [
    {
     "name": "stdout",
     "output_type": "stream",
     "text": [
      "INFO:tensorflow:Building groupwise ranking model.\n"
     ]
    },
    {
     "name": "stderr",
     "output_type": "stream",
     "text": [
      "I0103 20:05:19.509258 4540091840 model.py:469] Building groupwise ranking model.\n"
     ]
    },
    {
     "name": "stdout",
     "output_type": "stream",
     "text": [
      "INFO:tensorflow:Using config: {'_model_dir': './output', '_tf_random_seed': None, '_save_summary_steps': 100, '_save_checkpoints_steps': 1000, '_save_checkpoints_secs': None, '_session_config': allow_soft_placement: true\n",
      "graph_options {\n",
      "  rewrite_options {\n",
      "    meta_optimizer_iterations: ONE\n",
      "  }\n",
      "}\n",
      ", '_keep_checkpoint_max': 5, '_keep_checkpoint_every_n_hours': 10000, '_log_step_count_steps': 100, '_train_distribute': None, '_device_fn': None, '_protocol': None, '_eval_distribute': None, '_experimental_distribute': None, '_experimental_max_worker_delay_secs': None, '_session_creation_timeout_secs': 7200, '_checkpoint_save_graph_def': True, '_service': None, '_cluster_spec': ClusterSpec({}), '_task_type': 'worker', '_task_id': 0, '_global_id_in_cluster': 0, '_master': '', '_evaluation_master': '', '_is_chief': True, '_num_ps_replicas': 0, '_num_worker_replicas': 1}\n"
     ]
    },
    {
     "name": "stderr",
     "output_type": "stream",
     "text": [
      "I0103 20:05:19.511025 4540091840 estimator.py:191] Using config: {'_model_dir': './output', '_tf_random_seed': None, '_save_summary_steps': 100, '_save_checkpoints_steps': 1000, '_save_checkpoints_secs': None, '_session_config': allow_soft_placement: true\n",
      "graph_options {\n",
      "  rewrite_options {\n",
      "    meta_optimizer_iterations: ONE\n",
      "  }\n",
      "}\n",
      ", '_keep_checkpoint_max': 5, '_keep_checkpoint_every_n_hours': 10000, '_log_step_count_steps': 100, '_train_distribute': None, '_device_fn': None, '_protocol': None, '_eval_distribute': None, '_experimental_distribute': None, '_experimental_max_worker_delay_secs': None, '_session_creation_timeout_secs': 7200, '_checkpoint_save_graph_def': True, '_service': None, '_cluster_spec': ClusterSpec({}), '_task_type': 'worker', '_task_id': 0, '_global_id_in_cluster': 0, '_master': '', '_evaluation_master': '', '_is_chief': True, '_num_ps_replicas': 0, '_num_worker_replicas': 1}\n"
     ]
    },
    {
     "name": "stdout",
     "output_type": "stream",
     "text": [
      "WARNING:tensorflow:Estimator's model_fn (<function _make_model_fn.<locals>._model_fn at 0x644fdf3b0>) includes params argument, but params are not passed to Estimator.\n"
     ]
    },
    {
     "name": "stderr",
     "output_type": "stream",
     "text": [
      "W0103 20:05:19.512979 4540091840 model_fn.py:629] Estimator's model_fn (<function _make_model_fn.<locals>._model_fn at 0x644fdf3b0>) includes params argument, but params are not passed to Estimator.\n"
     ]
    },
    {
     "name": "stdout",
     "output_type": "stream",
     "text": [
      "INFO:tensorflow:Not using Distribute Coordinator.\n"
     ]
    },
    {
     "name": "stderr",
     "output_type": "stream",
     "text": [
      "I0103 20:05:19.517660 4540091840 estimator_training.py:186] Not using Distribute Coordinator.\n"
     ]
    },
    {
     "name": "stdout",
     "output_type": "stream",
     "text": [
      "INFO:tensorflow:Running training and evaluation locally (non-distributed).\n"
     ]
    },
    {
     "name": "stderr",
     "output_type": "stream",
     "text": [
      "I0103 20:05:19.519301 4540091840 training.py:645] Running training and evaluation locally (non-distributed).\n"
     ]
    },
    {
     "name": "stdout",
     "output_type": "stream",
     "text": [
      "INFO:tensorflow:Start train and evaluate loop. The evaluate will happen after every checkpoint. Checkpoint frequency is determined based on RunConfig arguments: save_checkpoints_steps 1000 or save_checkpoints_secs None.\n"
     ]
    },
    {
     "name": "stderr",
     "output_type": "stream",
     "text": [
      "I0103 20:05:19.521589 4540091840 training.py:733] Start train and evaluate loop. The evaluate will happen after every checkpoint. Checkpoint frequency is determined based on RunConfig arguments: save_checkpoints_steps 1000 or save_checkpoints_secs None.\n"
     ]
    },
    {
     "name": "stdout",
     "output_type": "stream",
     "text": [
      "INFO:tensorflow:Calling model_fn.\n"
     ]
    },
    {
     "name": "stderr",
     "output_type": "stream",
     "text": [
      "I0103 20:05:19.650042 4540091840 estimator.py:1162] Calling model_fn.\n"
     ]
    },
    {
     "name": "stdout",
     "output_type": "stream",
     "text": [
      "INFO:tensorflow:Done calling model_fn.\n"
     ]
    },
    {
     "name": "stderr",
     "output_type": "stream",
     "text": [
      "I0103 20:05:22.480732 4540091840 estimator.py:1164] Done calling model_fn.\n"
     ]
    },
    {
     "name": "stdout",
     "output_type": "stream",
     "text": [
      "INFO:tensorflow:Create CheckpointSaverHook.\n"
     ]
    },
    {
     "name": "stderr",
     "output_type": "stream",
     "text": [
      "I0103 20:05:22.482735 4540091840 basic_session_run_hooks.py:546] Create CheckpointSaverHook.\n"
     ]
    },
    {
     "name": "stdout",
     "output_type": "stream",
     "text": [
      "INFO:tensorflow:Graph was finalized.\n"
     ]
    },
    {
     "name": "stderr",
     "output_type": "stream",
     "text": [
      "I0103 20:05:22.589403 4540091840 monitored_session.py:246] Graph was finalized.\n"
     ]
    },
    {
     "name": "stdout",
     "output_type": "stream",
     "text": [
      "INFO:tensorflow:Running local_init_op.\n"
     ]
    },
    {
     "name": "stderr",
     "output_type": "stream",
     "text": [
      "I0103 20:05:22.850580 4540091840 session_manager.py:505] Running local_init_op.\n"
     ]
    },
    {
     "name": "stdout",
     "output_type": "stream",
     "text": [
      "INFO:tensorflow:Done running local_init_op.\n"
     ]
    },
    {
     "name": "stderr",
     "output_type": "stream",
     "text": [
      "I0103 20:05:22.887961 4540091840 session_manager.py:508] Done running local_init_op.\n"
     ]
    },
    {
     "name": "stdout",
     "output_type": "stream",
     "text": [
      "INFO:tensorflow:Calling checkpoint listeners before saving checkpoint 0...\n"
     ]
    },
    {
     "name": "stderr",
     "output_type": "stream",
     "text": [
      "I0103 20:05:25.231046 4540091840 basic_session_run_hooks.py:614] Calling checkpoint listeners before saving checkpoint 0...\n"
     ]
    },
    {
     "name": "stdout",
     "output_type": "stream",
     "text": [
      "INFO:tensorflow:Saving checkpoints for 0 into ./output/model.ckpt.\n"
     ]
    },
    {
     "name": "stderr",
     "output_type": "stream",
     "text": [
      "I0103 20:05:25.235144 4540091840 basic_session_run_hooks.py:618] Saving checkpoints for 0 into ./output/model.ckpt.\n"
     ]
    },
    {
     "name": "stdout",
     "output_type": "stream",
     "text": [
      "INFO:tensorflow:Calling checkpoint listeners after saving checkpoint 0...\n"
     ]
    },
    {
     "name": "stderr",
     "output_type": "stream",
     "text": [
      "I0103 20:05:25.677729 4540091840 basic_session_run_hooks.py:626] Calling checkpoint listeners after saving checkpoint 0...\n"
     ]
    },
    {
     "name": "stdout",
     "output_type": "stream",
     "text": [
      "INFO:tensorflow:loss = 0.81536597, step = 0\n"
     ]
    },
    {
     "name": "stderr",
     "output_type": "stream",
     "text": [
      "I0103 20:05:26.935841 4540091840 basic_session_run_hooks.py:262] loss = 0.81536597, step = 0\n"
     ]
    },
    {
     "name": "stdout",
     "output_type": "stream",
     "text": [
      "INFO:tensorflow:Calling checkpoint listeners before saving checkpoint 100...\n"
     ]
    },
    {
     "name": "stderr",
     "output_type": "stream",
     "text": [
      "I0103 20:05:29.355870 4540091840 basic_session_run_hooks.py:614] Calling checkpoint listeners before saving checkpoint 100...\n"
     ]
    },
    {
     "name": "stdout",
     "output_type": "stream",
     "text": [
      "INFO:tensorflow:Saving checkpoints for 100 into ./output/model.ckpt.\n"
     ]
    },
    {
     "name": "stderr",
     "output_type": "stream",
     "text": [
      "I0103 20:05:29.356849 4540091840 basic_session_run_hooks.py:618] Saving checkpoints for 100 into ./output/model.ckpt.\n"
     ]
    },
    {
     "name": "stdout",
     "output_type": "stream",
     "text": [
      "INFO:tensorflow:Calling checkpoint listeners after saving checkpoint 100...\n"
     ]
    },
    {
     "name": "stderr",
     "output_type": "stream",
     "text": [
      "I0103 20:05:29.731585 4540091840 basic_session_run_hooks.py:626] Calling checkpoint listeners after saving checkpoint 100...\n"
     ]
    },
    {
     "name": "stdout",
     "output_type": "stream",
     "text": [
      "INFO:tensorflow:Calling model_fn.\n"
     ]
    },
    {
     "name": "stderr",
     "output_type": "stream",
     "text": [
      "I0103 20:05:29.807643 4540091840 estimator.py:1162] Calling model_fn.\n"
     ]
    },
    {
     "name": "stdout",
     "output_type": "stream",
     "text": [
      "INFO:tensorflow:Done calling model_fn.\n"
     ]
    },
    {
     "name": "stderr",
     "output_type": "stream",
     "text": [
      "I0103 20:05:33.415608 4540091840 estimator.py:1164] Done calling model_fn.\n"
     ]
    },
    {
     "name": "stdout",
     "output_type": "stream",
     "text": [
      "INFO:tensorflow:Starting evaluation at 2021-01-03T20:05:33Z\n"
     ]
    },
    {
     "name": "stderr",
     "output_type": "stream",
     "text": [
      "I0103 20:05:33.437757 4540091840 evaluation.py:255] Starting evaluation at 2021-01-03T20:05:33Z\n"
     ]
    },
    {
     "name": "stdout",
     "output_type": "stream",
     "text": [
      "INFO:tensorflow:Graph was finalized.\n"
     ]
    },
    {
     "name": "stderr",
     "output_type": "stream",
     "text": [
      "I0103 20:05:33.506519 4540091840 monitored_session.py:246] Graph was finalized.\n"
     ]
    },
    {
     "name": "stdout",
     "output_type": "stream",
     "text": [
      "INFO:tensorflow:Restoring parameters from ./output/model.ckpt-100\n"
     ]
    },
    {
     "name": "stderr",
     "output_type": "stream",
     "text": [
      "I0103 20:05:33.508403 4540091840 saver.py:1292] Restoring parameters from ./output/model.ckpt-100\n"
     ]
    },
    {
     "name": "stdout",
     "output_type": "stream",
     "text": [
      "INFO:tensorflow:Running local_init_op.\n"
     ]
    },
    {
     "name": "stderr",
     "output_type": "stream",
     "text": [
      "I0103 20:05:33.728971 4540091840 session_manager.py:505] Running local_init_op.\n"
     ]
    },
    {
     "name": "stdout",
     "output_type": "stream",
     "text": [
      "INFO:tensorflow:Done running local_init_op.\n"
     ]
    },
    {
     "name": "stderr",
     "output_type": "stream",
     "text": [
      "I0103 20:05:33.775676 4540091840 session_manager.py:508] Done running local_init_op.\n"
     ]
    },
    {
     "name": "stdout",
     "output_type": "stream",
     "text": [
      "INFO:tensorflow:Evaluation [1/1]\n"
     ]
    },
    {
     "name": "stderr",
     "output_type": "stream",
     "text": [
      "I0103 20:05:34.423408 4540091840 evaluation.py:167] Evaluation [1/1]\n"
     ]
    },
    {
     "name": "stdout",
     "output_type": "stream",
     "text": [
      "INFO:tensorflow:Inference Time : 1.06981s\n"
     ]
    },
    {
     "name": "stderr",
     "output_type": "stream",
     "text": [
      "I0103 20:05:34.508645 4540091840 evaluation.py:273] Inference Time : 1.06981s\n"
     ]
    },
    {
     "name": "stdout",
     "output_type": "stream",
     "text": [
      "INFO:tensorflow:Finished evaluation at 2021-01-03-20:05:34\n"
     ]
    },
    {
     "name": "stderr",
     "output_type": "stream",
     "text": [
      "I0103 20:05:34.510012 4540091840 evaluation.py:276] Finished evaluation at 2021-01-03-20:05:34\n"
     ]
    },
    {
     "name": "stdout",
     "output_type": "stream",
     "text": [
      "INFO:tensorflow:Saving dict for global step 100: global_step = 100, labels_mean = 0.7777778, logits_mean = 0.18107504, loss = 0.6708235, metric/arp = 3.107143, metric/ndcg@1 = 0.51851857, metric/ndcg@10 = 0.79943794, metric/ndcg@3 = 0.73873365, metric/ndcg@5 = 0.76768184, metric/ordered_pair_accuracy = 0.5762712\n"
     ]
    },
    {
     "name": "stderr",
     "output_type": "stream",
     "text": [
      "I0103 20:05:34.510991 4540091840 estimator.py:2066] Saving dict for global step 100: global_step = 100, labels_mean = 0.7777778, logits_mean = 0.18107504, loss = 0.6708235, metric/arp = 3.107143, metric/ndcg@1 = 0.51851857, metric/ndcg@10 = 0.79943794, metric/ndcg@3 = 0.73873365, metric/ndcg@5 = 0.76768184, metric/ordered_pair_accuracy = 0.5762712\n"
     ]
    },
    {
     "name": "stdout",
     "output_type": "stream",
     "text": [
      "INFO:tensorflow:Saving 'checkpoint_path' summary for global step 100: ./output/model.ckpt-100\n"
     ]
    },
    {
     "name": "stderr",
     "output_type": "stream",
     "text": [
      "I0103 20:05:34.513257 4540091840 estimator.py:2127] Saving 'checkpoint_path' summary for global step 100: ./output/model.ckpt-100\n"
     ]
    },
    {
     "name": "stdout",
     "output_type": "stream",
     "text": [
      "INFO:tensorflow:Calling model_fn.\n"
     ]
    },
    {
     "name": "stderr",
     "output_type": "stream",
     "text": [
      "I0103 20:05:34.635117 4540091840 estimator.py:1162] Calling model_fn.\n"
     ]
    },
    {
     "name": "stdout",
     "output_type": "stream",
     "text": [
      "INFO:tensorflow:Done calling model_fn.\n"
     ]
    },
    {
     "name": "stderr",
     "output_type": "stream",
     "text": [
      "I0103 20:05:36.465276 4540091840 estimator.py:1164] Done calling model_fn.\n"
     ]
    },
    {
     "name": "stdout",
     "output_type": "stream",
     "text": [
      "INFO:tensorflow:Signatures INCLUDED in export for Classify: None\n"
     ]
    },
    {
     "name": "stderr",
     "output_type": "stream",
     "text": [
      "I0103 20:05:36.466682 4540091840 export_utils.py:170] Signatures INCLUDED in export for Classify: None\n"
     ]
    },
    {
     "name": "stdout",
     "output_type": "stream",
     "text": [
      "INFO:tensorflow:Signatures INCLUDED in export for Regress: ['serving_default', 'regression']\n"
     ]
    },
    {
     "name": "stderr",
     "output_type": "stream",
     "text": [
      "I0103 20:05:36.467554 4540091840 export_utils.py:170] Signatures INCLUDED in export for Regress: ['serving_default', 'regression']\n"
     ]
    },
    {
     "name": "stdout",
     "output_type": "stream",
     "text": [
      "INFO:tensorflow:Signatures INCLUDED in export for Predict: ['predict']\n"
     ]
    },
    {
     "name": "stderr",
     "output_type": "stream",
     "text": [
      "I0103 20:05:36.468575 4540091840 export_utils.py:170] Signatures INCLUDED in export for Predict: ['predict']\n"
     ]
    },
    {
     "name": "stdout",
     "output_type": "stream",
     "text": [
      "INFO:tensorflow:Signatures INCLUDED in export for Train: None\n"
     ]
    },
    {
     "name": "stderr",
     "output_type": "stream",
     "text": [
      "I0103 20:05:36.469319 4540091840 export_utils.py:170] Signatures INCLUDED in export for Train: None\n"
     ]
    },
    {
     "name": "stdout",
     "output_type": "stream",
     "text": [
      "INFO:tensorflow:Signatures INCLUDED in export for Eval: None\n"
     ]
    },
    {
     "name": "stderr",
     "output_type": "stream",
     "text": [
      "I0103 20:05:36.470063 4540091840 export_utils.py:170] Signatures INCLUDED in export for Eval: None\n"
     ]
    },
    {
     "name": "stdout",
     "output_type": "stream",
     "text": [
      "INFO:tensorflow:Restoring parameters from ./output/model.ckpt-100\n"
     ]
    },
    {
     "name": "stderr",
     "output_type": "stream",
     "text": [
      "I0103 20:05:36.504565 4540091840 saver.py:1292] Restoring parameters from ./output/model.ckpt-100\n"
     ]
    },
    {
     "name": "stdout",
     "output_type": "stream",
     "text": [
      "INFO:tensorflow:Assets added to graph.\n"
     ]
    },
    {
     "name": "stderr",
     "output_type": "stream",
     "text": [
      "I0103 20:05:36.602273 4540091840 builder_impl.py:666] Assets added to graph.\n"
     ]
    },
    {
     "name": "stdout",
     "output_type": "stream",
     "text": [
      "INFO:tensorflow:No assets to write.\n"
     ]
    },
    {
     "name": "stderr",
     "output_type": "stream",
     "text": [
      "I0103 20:05:36.603453 4540091840 builder_impl.py:461] No assets to write.\n"
     ]
    },
    {
     "name": "stdout",
     "output_type": "stream",
     "text": [
      "INFO:tensorflow:SavedModel written to: ./output/export/latest_exporter/temp-1609722334/saved_model.pb\n"
     ]
    },
    {
     "name": "stderr",
     "output_type": "stream",
     "text": [
      "I0103 20:05:36.971240 4540091840 builder_impl.py:426] SavedModel written to: ./output/export/latest_exporter/temp-1609722334/saved_model.pb\n"
     ]
    },
    {
     "name": "stdout",
     "output_type": "stream",
     "text": [
      "INFO:tensorflow:Loss for final step: 0.41723752.\n"
     ]
    },
    {
     "name": "stderr",
     "output_type": "stream",
     "text": [
      "I0103 20:05:37.040361 4540091840 estimator.py:350] Loss for final step: 0.41723752.\n"
     ]
    },
    {
     "name": "stdout",
     "output_type": "stream",
     "text": [
      "INFO:tensorflow:Calling model_fn.\n"
     ]
    },
    {
     "name": "stderr",
     "output_type": "stream",
     "text": [
      "I0103 20:05:37.125369 4540091840 estimator.py:1162] Calling model_fn.\n"
     ]
    },
    {
     "name": "stdout",
     "output_type": "stream",
     "text": [
      "INFO:tensorflow:Done calling model_fn.\n"
     ]
    },
    {
     "name": "stderr",
     "output_type": "stream",
     "text": [
      "I0103 20:05:40.137092 4540091840 estimator.py:1164] Done calling model_fn.\n"
     ]
    },
    {
     "name": "stdout",
     "output_type": "stream",
     "text": [
      "INFO:tensorflow:Starting evaluation at 2021-01-03T20:05:40Z\n"
     ]
    },
    {
     "name": "stderr",
     "output_type": "stream",
     "text": [
      "I0103 20:05:40.158150 4540091840 evaluation.py:255] Starting evaluation at 2021-01-03T20:05:40Z\n"
     ]
    },
    {
     "name": "stdout",
     "output_type": "stream",
     "text": [
      "INFO:tensorflow:Graph was finalized.\n"
     ]
    },
    {
     "name": "stderr",
     "output_type": "stream",
     "text": [
      "I0103 20:05:40.228832 4540091840 monitored_session.py:246] Graph was finalized.\n"
     ]
    },
    {
     "name": "stdout",
     "output_type": "stream",
     "text": [
      "INFO:tensorflow:Restoring parameters from ./output/model.ckpt-100\n"
     ]
    },
    {
     "name": "stderr",
     "output_type": "stream",
     "text": [
      "I0103 20:05:40.230610 4540091840 saver.py:1292] Restoring parameters from ./output/model.ckpt-100\n"
     ]
    },
    {
     "name": "stdout",
     "output_type": "stream",
     "text": [
      "INFO:tensorflow:Running local_init_op.\n"
     ]
    },
    {
     "name": "stderr",
     "output_type": "stream",
     "text": [
      "I0103 20:05:40.456639 4540091840 session_manager.py:505] Running local_init_op.\n"
     ]
    },
    {
     "name": "stdout",
     "output_type": "stream",
     "text": [
      "INFO:tensorflow:Done running local_init_op.\n"
     ]
    },
    {
     "name": "stderr",
     "output_type": "stream",
     "text": [
      "I0103 20:05:40.507058 4540091840 session_manager.py:508] Done running local_init_op.\n"
     ]
    },
    {
     "name": "stdout",
     "output_type": "stream",
     "text": [
      "INFO:tensorflow:Inference Time : 1.10154s\n"
     ]
    },
    {
     "name": "stderr",
     "output_type": "stream",
     "text": [
      "I0103 20:05:41.260885 4540091840 evaluation.py:273] Inference Time : 1.10154s\n"
     ]
    },
    {
     "name": "stdout",
     "output_type": "stream",
     "text": [
      "INFO:tensorflow:Finished evaluation at 2021-01-03-20:05:41\n"
     ]
    },
    {
     "name": "stderr",
     "output_type": "stream",
     "text": [
      "I0103 20:05:41.262426 4540091840 evaluation.py:276] Finished evaluation at 2021-01-03-20:05:41\n"
     ]
    },
    {
     "name": "stdout",
     "output_type": "stream",
     "text": [
      "INFO:tensorflow:Saving dict for global step 100: global_step = 100, labels_mean = 0.7777778, logits_mean = 0.18107504, loss = 0.6708235, metric/arp = 3.107143, metric/ndcg@1 = 0.51851857, metric/ndcg@10 = 0.79943794, metric/ndcg@3 = 0.73873365, metric/ndcg@5 = 0.76768184, metric/ordered_pair_accuracy = 0.5762712\n"
     ]
    },
    {
     "name": "stderr",
     "output_type": "stream",
     "text": [
      "I0103 20:05:41.263314 4540091840 estimator.py:2066] Saving dict for global step 100: global_step = 100, labels_mean = 0.7777778, logits_mean = 0.18107504, loss = 0.6708235, metric/arp = 3.107143, metric/ndcg@1 = 0.51851857, metric/ndcg@10 = 0.79943794, metric/ndcg@3 = 0.73873365, metric/ndcg@5 = 0.76768184, metric/ordered_pair_accuracy = 0.5762712\n"
     ]
    },
    {
     "name": "stdout",
     "output_type": "stream",
     "text": [
      "INFO:tensorflow:Saving 'checkpoint_path' summary for global step 100: ./output/model.ckpt-100\n"
     ]
    },
    {
     "name": "stderr",
     "output_type": "stream",
     "text": [
      "I0103 20:05:41.265115 4540091840 estimator.py:2127] Saving 'checkpoint_path' summary for global step 100: ./output/model.ckpt-100\n"
     ]
    }
   ],
   "source": [
    "train_and_eval()"
   ]
  },
  {
   "cell_type": "code",
   "execution_count": 48,
   "metadata": {},
   "outputs": [],
   "source": [
    "# https://medium.com/learning-machine-learning/introduction-to-tensorflow-estimators-part-1-39f9eb666bc7\n",
    "# https://towardsdatascience.com/an-advanced-example-of-tensorflow-estimators-part-1-3-c9ffba3bff03"
   ]
  },
  {
   "cell_type": "code",
   "execution_count": null,
   "metadata": {},
   "outputs": [],
   "source": []
  }
 ],
 "metadata": {
  "kernelspec": {
   "display_name": "Python 3",
   "language": "python",
   "name": "python3"
  },
  "language_info": {
   "codemirror_mode": {
    "name": "ipython",
    "version": 3
   },
   "file_extension": ".py",
   "mimetype": "text/x-python",
   "name": "python",
   "nbconvert_exporter": "python",
   "pygments_lexer": "ipython3",
   "version": "3.7.4"
  }
 },
 "nbformat": 4,
 "nbformat_minor": 2
}
