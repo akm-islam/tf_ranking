{
 "cells": [
  {
   "cell_type": "code",
   "execution_count": 1,
   "metadata": {},
   "outputs": [
    {
     "name": "stdout",
     "output_type": "stream",
     "text": [
      "WARNING:tensorflow:From E:\\00_Installed_programs\\anaconda\\envs\\tensorflow_2\\lib\\site-packages\\tensorflow\\python\\compat\\v2_compat.py:96: disable_resource_variables (from tensorflow.python.ops.variable_scope) is deprecated and will be removed in a future version.\n",
      "Instructions for updating:\n",
      "non-resource variables are not supported in the long term\n"
     ]
    }
   ],
   "source": [
    "import tensorflow.compat.v1 as tf\n",
    "import tensorflow_ranking as tfr\n",
    "tf.disable_v2_behavior()"
   ]
  },
  {
   "cell_type": "code",
   "execution_count": 4,
   "metadata": {},
   "outputs": [],
   "source": [
    "import warnings\n",
    "warnings.filterwarnings(\"ignore\")\n",
    "tf.logging.set_verbosity(tf.logging.ERROR)\n",
    "# The code here largely borrows from:\n",
    "# https://github.com/tensorflow/ranking/blob/master/tensorflow_ranking/examples/tf_ranking_libsvm.ipynb\n",
    "# Comparing to lightgbm, we need much more effort to build a model using tf.\n",
    "# This is because tf is in general a lower-level framework for machine learning modeling,\n",
    "# particularly deep neural nets.\n",
    "tf.enable_eager_execution()\n",
    "assert tf.executing_eagerly()\n",
    "_NUM_FEATURES = 699\n",
    "_LIST_SIZE = 99\n",
    "_BATCH_SIZE = 32\n",
    "_HIDDEN_LAYER_DIMS=[\"20\", \"10\"]\n",
    "_LOSS = tfr.losses.RankingLossKey.APPROX_NDCG_LOSS\n",
    "# Input reader.\n",
    "def input_fn(path):\n",
    "    train_dataset = tf.data.Dataset.from_generator(tfr.data.libsvm_generator(path, _NUM_FEATURES, _LIST_SIZE, seed=777),\n",
    "        output_types = ({str(k): tf.float32 for k in range(1, _NUM_FEATURES + 1)},tf.float32), \n",
    "                                                   output_shapes = ({str(k): tf.TensorShape([_LIST_SIZE, 1]) for k in range(1, _NUM_FEATURES + 1)},\n",
    "                                                    tf.TensorShape([_LIST_SIZE])))\n",
    "    train_dataset = train_dataset.shuffle(1000).repeat().batch(_BATCH_SIZE)\n",
    "    return train_dataset.make_one_shot_iterator().get_next()\n",
    "# Test the reader.\n",
    "#infile_train_svm = \"data/set1.train.txt\"\n",
    "#infile_valid_svm = \"data/ltrc_yahoo/set1.test.txt\"\n",
    "#d = input_fn(infile_train_svm)\n",
    "#print(d[1]) # A label matrix of batch size X list size."
   ]
  },
  {
   "cell_type": "code",
   "execution_count": null,
   "metadata": {},
   "outputs": [],
   "source": []
  }
 ],
 "metadata": {
  "kernelspec": {
   "display_name": "Python 3",
   "language": "python",
   "name": "python3"
  },
  "language_info": {
   "codemirror_mode": {
    "name": "ipython",
    "version": 3
   },
   "file_extension": ".py",
   "mimetype": "text/x-python",
   "name": "python",
   "nbconvert_exporter": "python",
   "pygments_lexer": "ipython3",
   "version": "3.7.9"
  }
 },
 "nbformat": 4,
 "nbformat_minor": 4
}
